{
 "cells": [
  {
   "cell_type": "code",
   "execution_count": 1,
   "id": "db336c3b",
   "metadata": {},
   "outputs": [
    {
     "name": "stderr",
     "output_type": "stream",
     "text": [
      "d:\\Projects\\ARPSaC\\arpsac\\Lib\\site-packages\\tqdm\\auto.py:21: TqdmWarning: IProgress not found. Please update jupyter and ipywidgets. See https://ipywidgets.readthedocs.io/en/stable/user_install.html\n",
      "  from .autonotebook import tqdm as notebook_tqdm\n",
      "d:\\Projects\\ARPSaC\\arpsac\\Lib\\site-packages\\huggingface_hub\\file_download.py:143: UserWarning: `huggingface_hub` cache-system uses symlinks by default to efficiently store duplicated files but your machine does not support them in C:\\Users\\joy\\.cache\\huggingface\\hub\\models--facebook--bart-large-cnn. Caching files will still work but in a degraded version that might require more space on your disk. This warning can be disabled by setting the `HF_HUB_DISABLE_SYMLINKS_WARNING` environment variable. For more details, see https://huggingface.co/docs/huggingface_hub/how-to-cache#limitations.\n",
      "To support symlinks on Windows, you either need to activate Developer Mode or to run Python as an administrator. In order to activate developer mode, see this article: https://docs.microsoft.com/en-us/windows/apps/get-started/enable-your-device-for-development\n",
      "  warnings.warn(message)\n",
      "Device set to use cpu\n"
     ]
    },
    {
     "name": "stdout",
     "output_type": "stream",
     "text": [
      "[{'summary_text': 'Complex quantum systems are difficult to model. When a quantum many-body system is subject to disorder, it can undergo transitions to regimes with varying non-ergodic and localized behavior. For all three markers, finite-size scaling reveals sharp transitions between high- and low-complexity regimes.'}]\n"
     ]
    }
   ],
   "source": [
    "from transformers import pipeline\n",
    "\n",
    "summarizer = pipeline(\"summarization\", model=\"facebook/bart-large-cnn\")\n",
    "\n",
    "ABSTRACT = \"\"\" Complex quantum systems—composed of many, interacting particles—are intrinsically difficult to model. When a quantum many-body system is subject to disorder, it can undergo transitions to regimes with varying non-ergodic and localized behavior, which can significantly reduce the number of relevant basis states. It remains an open question whether such transitions are also directly related to an abrupt change in the system’s complexity. In this work, we study the transition from chaotic to integrable phases in several paradigmatic models, the power-law random banded matrix model, the Rosenzweig–Porter model, and a hybrid SYK+Ising model, comparing three complementary complexity markers—fractal dimension, von Neumann entanglement entropy, and stabilizer Rényi entropy. For all three markers, finite-size scaling reveals sharp transitions between high- and low-complexity regimes, which, however, can occur at different critical points. As a consequence, while in the ergodic and localized regimes the markers align, they diverge significantly in the presence of an intermediate fractal phase. Additionally, our analysis reveals that the stabilizer Rényi entropy is more sensitive to underlying many-body symmetries, such as fermion parity and time reversal, than the other markers. As our results show, different markers capture complementary facets of complexity, making it necessary to combine them to obtain a comprehensive diagnosis of phase transitions. The divergence between different complexity markers also has significant consequences for the classical simulability of chaotic many-body systems.\n",
    "\"\"\"\n",
    "print(summarizer(ABSTRACT, max_length=130, min_length=30, do_sample=False))"
   ]
  }
 ],
 "metadata": {
  "kernelspec": {
   "display_name": "arpsac",
   "language": "python",
   "name": "python3"
  },
  "language_info": {
   "codemirror_mode": {
    "name": "ipython",
    "version": 3
   },
   "file_extension": ".py",
   "mimetype": "text/x-python",
   "name": "python",
   "nbconvert_exporter": "python",
   "pygments_lexer": "ipython3",
   "version": "3.12.10"
  }
 },
 "nbformat": 4,
 "nbformat_minor": 5
}
