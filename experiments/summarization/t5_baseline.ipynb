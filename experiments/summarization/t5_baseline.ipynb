{
 "cells": [
  {
   "cell_type": "markdown",
   "id": "55ee0149",
   "metadata": {},
   "source": [
    "Model and Tokenizer Loading"
   ]
  },
  {
   "cell_type": "code",
   "execution_count": 1,
   "id": "db336c3b",
   "metadata": {},
   "outputs": [
    {
     "name": "stderr",
     "output_type": "stream",
     "text": [
      "d:\\Projects\\ARPSaC\\arpsac\\Lib\\site-packages\\tqdm\\auto.py:21: TqdmWarning: IProgress not found. Please update jupyter and ipywidgets. See https://ipywidgets.readthedocs.io/en/stable/user_install.html\n",
      "  from .autonotebook import tqdm as notebook_tqdm\n",
      "d:\\Projects\\ARPSaC\\arpsac\\Lib\\site-packages\\huggingface_hub\\file_download.py:143: UserWarning: `huggingface_hub` cache-system uses symlinks by default to efficiently store duplicated files but your machine does not support them in C:\\Users\\joy\\.cache\\huggingface\\hub\\models--google--flan-t5-small. Caching files will still work but in a degraded version that might require more space on your disk. This warning can be disabled by setting the `HF_HUB_DISABLE_SYMLINKS_WARNING` environment variable. For more details, see https://huggingface.co/docs/huggingface_hub/how-to-cache#limitations.\n",
      "To support symlinks on Windows, you either need to activate Developer Mode or to run Python as an administrator. In order to activate developer mode, see this article: https://docs.microsoft.com/en-us/windows/apps/get-started/enable-your-device-for-development\n",
      "  warnings.warn(message)\n",
      "Xet Storage is enabled for this repo, but the 'hf_xet' package is not installed. Falling back to regular HTTP download. For better performance, install the package with: `pip install huggingface_hub[hf_xet]` or `pip install hf_xet`\n",
      "You are using the default legacy behaviour of the <class 'transformers.models.t5.tokenization_t5.T5Tokenizer'>. This is expected, and simply means that the `legacy` (previous) behavior will be used so nothing changes for you. If you want to use the new behaviour, set `legacy=False`. This should only be set if you understand what it means, and thoroughly read the reason why this was added as explained in https://github.com/huggingface/transformers/pull/24565\n",
      "Xet Storage is enabled for this repo, but the 'hf_xet' package is not installed. Falling back to regular HTTP download. For better performance, install the package with: `pip install huggingface_hub[hf_xet]` or `pip install hf_xet`\n"
     ]
    }
   ],
   "source": [
    "from transformers import T5Tokenizer, T5ForConditionalGeneration\n",
    "\n",
    "tokenizer = T5Tokenizer.from_pretrained(\"google/flan-t5-small\")\n",
    "model = T5ForConditionalGeneration.from_pretrained(\"google/flan-t5-small\")\n"
   ]
  },
  {
   "cell_type": "markdown",
   "id": "ce3cdf31",
   "metadata": {},
   "source": [
    "Input Format"
   ]
  },
  {
   "cell_type": "code",
   "execution_count": null,
   "id": "2c408d3f",
   "metadata": {},
   "outputs": [],
   "source": [
    "input_text = \"summarize: \"\n",
    "Complex quantum systems—composed of many, interacting particles—are intrinsically difficult to model. When a quantum many-body system is subject to disorder, it can undergo transitions to regimes with varying non-ergodic and localized behavior, which can significantly reduce the number of relevant basis states. It remains an open question whether such transitions are also directly related to an abrupt change in the system’s complexity. In this work, we study the transition from chaotic to integrable phases in several paradigmatic models, the power-law random banded matrix model, the Rosenzweig–Porter model, and a hybrid SYK+Ising model, comparing three complementary complexity markers—fractal dimension, von Neumann entanglement entropy, and stabilizer Rényi entropy. For all three markers, finite-size scaling reveals sharp transitions between high- and low-complexity regimes, which, however, can occur at different critical points. As a consequence, while in the ergodic and localized regimes the markers align, they diverge significantly in the presence of an intermediate fractal phase. Additionally, our analysis reveals that the stabilizer Rényi entropy is more sensitive to underlying many-body symmetries, such as fermion parity and time reversal, than the other markers. As our results show, different markers capture complementary facets of complexity, making it necessary to combine them to obtain a comprehensive diagnosis of phase transitions. The divergence between different complexity markers also has significant consequences for the classical simulability of chaotic many-body systems."
   ]
  },
  {
   "cell_type": "markdown",
   "id": "fbc71670",
   "metadata": {},
   "source": [
    "Tokenization"
   ]
  },
  {
   "cell_type": "code",
   "execution_count": 3,
   "id": "d1571a60",
   "metadata": {},
   "outputs": [],
   "source": [
    "input_ids = tokenizer(input_text, return_tensors=\"pt\").input_ids\n"
   ]
  },
  {
   "cell_type": "markdown",
   "id": "87343f00",
   "metadata": {},
   "source": [
    "Generation and Decoding"
   ]
  },
  {
   "cell_type": "code",
   "execution_count": 4,
   "id": "5d3aaf7c",
   "metadata": {},
   "outputs": [
    {
     "name": "stdout",
     "output_type": "stream",
     "text": [
      "<pad> We study the transition from chaotic to integrable phases in a paradigmatic model.</s>\n"
     ]
    }
   ],
   "source": [
    "outputs = model.generate(input_ids)\n",
    "print(tokenizer.decode(outputs[0]))\n"
   ]
  },
  {
   "cell_type": "code",
   "execution_count": 5,
   "id": "344212b6",
   "metadata": {},
   "outputs": [
    {
     "name": "stderr",
     "output_type": "stream",
     "text": [
      "d:\\Projects\\ARPSaC\\arpsac\\Lib\\site-packages\\transformers\\generation\\configuration_utils.py:679: UserWarning: `num_beams` is set to 1. However, `early_stopping` is set to `True` -- this flag is only used in beam-based generation modes. You should set `num_beams>1` or unset `early_stopping`.\n",
      "  warnings.warn(\n"
     ]
    }
   ],
   "source": [
    "outputs = model.generate(\n",
    "    input_ids,\n",
    "    max_length=100,         # Limits the summary length\n",
    "    min_length=30,          # Ensures it's not too short\n",
    "    do_sample=False,        # Makes it deterministic (no randomness)\n",
    "    early_stopping=True     # Stops when EOS token is predicted\n",
    ")\n"
   ]
  },
  {
   "cell_type": "code",
   "execution_count": 6,
   "id": "b7b1121a",
   "metadata": {},
   "outputs": [
    {
     "name": "stdout",
     "output_type": "stream",
     "text": [
      "We study the transition from chaotic to integrable phases in a paradigmatic model. We show that the divergence between different complexity markers is more sensitive to underlying many-body symmetries than the other markers.\n"
     ]
    }
   ],
   "source": [
    "summary = tokenizer.decode(outputs[0], skip_special_tokens=True)\n",
    "print(summary)\n"
   ]
  }
 ],
 "metadata": {
  "kernelspec": {
   "display_name": "arpsac",
   "language": "python",
   "name": "python3"
  },
  "language_info": {
   "codemirror_mode": {
    "name": "ipython",
    "version": 3
   },
   "file_extension": ".py",
   "mimetype": "text/x-python",
   "name": "python",
   "nbconvert_exporter": "python",
   "pygments_lexer": "ipython3",
   "version": "3.12.10"
  }
 },
 "nbformat": 4,
 "nbformat_minor": 5
}
