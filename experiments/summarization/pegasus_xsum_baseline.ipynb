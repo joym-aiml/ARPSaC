{
 "cells": [
  {
   "cell_type": "code",
   "execution_count": 2,
   "id": "8395c580",
   "metadata": {},
   "outputs": [
    {
     "name": "stderr",
     "output_type": "stream",
     "text": [
      "Some weights of PegasusForConditionalGeneration were not initialized from the model checkpoint at google/pegasus-xsum and are newly initialized: ['model.decoder.embed_positions.weight', 'model.encoder.embed_positions.weight']\n",
      "You should probably TRAIN this model on a down-stream task to be able to use it for predictions and inference.\n",
      "Device set to use cpu\n"
     ]
    }
   ],
   "source": [
    "# Use a pipeline as a high-level helper\n",
    "from transformers import pipeline\n",
    "\n",
    "pipe = pipeline(\"summarization\", model=\"google/pegasus-xsum\")"
   ]
  },
  {
   "cell_type": "code",
   "execution_count": 3,
   "id": "7e6fdee4",
   "metadata": {},
   "outputs": [
    {
     "name": "stdout",
     "output_type": "stream",
     "text": [
      "We study the transition from chaotic toble phases in several paradigmatic models, using finite-size scaling to reveal sharp transitions between high- and low-complexity regimes.\n"
     ]
    }
   ],
   "source": [
    "summary = pipe(\"Complex quantum systems—composed of many, interacting particles—are intrinsically difficult to model. When a quantum many-body system is subject to disorder, it can undergo transitions to regimes with varying non-ergodic and localized behavior, which can significantly reduce the number of relevant basis states. It remains an open question whether such transitions are also directly related to an abrupt change in the system’s complexity. In this work, we study the transition from chaotic to integrable phases in several paradigmatic models, the power-law random banded matrix model, the Rosenzweig–Porter model, and a hybrid SYK+Ising model, comparing three complementary complexity markers—fractal dimension, von Neumann entanglement entropy, and stabilizer Rényi entropy. For all three markers, finite-size scaling reveals sharp transitions between high- and low-complexity regimes, which, however, can occur at different critical points. As a consequence, while in the ergodic and localized regimes the markers align, they diverge significantly in the presence of an intermediate fractal phase. Additionally, our analysis reveals that the stabilizer Rényi entropy is more sensitive to underlying many-body symmetries, such as fermion parity and time reversal, than the other markers. As our results show, different markers capture complementary facets of complexity, making it necessary to combine them to obtain a comprehensive diagnosis of phase transitions. The divergence between different complexity markers also has significant consequences for the classical simulability of chaotic many-body systems.\", max_length=60, min_length=20, do_sample=False)\n",
    "print(summary[0]['summary_text'])\n"
   ]
  }
 ],
 "metadata": {
  "kernelspec": {
   "display_name": "arpsac",
   "language": "python",
   "name": "python3"
  },
  "language_info": {
   "codemirror_mode": {
    "name": "ipython",
    "version": 3
   },
   "file_extension": ".py",
   "mimetype": "text/x-python",
   "name": "python",
   "nbconvert_exporter": "python",
   "pygments_lexer": "ipython3",
   "version": "3.12.10"
  }
 },
 "nbformat": 4,
 "nbformat_minor": 5
}
