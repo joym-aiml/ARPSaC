{
 "cells": [
  {
   "cell_type": "code",
   "execution_count": 2,
   "id": "1808f8c9",
   "metadata": {},
   "outputs": [
    {
     "name": "stderr",
     "output_type": "stream",
     "text": [
      "d:\\Projects\\ARPSaC\\arpsac\\Lib\\site-packages\\tqdm\\auto.py:21: TqdmWarning: IProgress not found. Please update jupyter and ipywidgets. See https://ipywidgets.readthedocs.io/en/stable/user_install.html\n",
      "  from .autonotebook import tqdm as notebook_tqdm\n"
     ]
    }
   ],
   "source": [
    "import evaluate\n",
    "from bert_score import score\n",
    "\n",
    "# Load ROUGE metric\n",
    "rouge = evaluate.load(\"rouge\")\n"
   ]
  },
  {
   "cell_type": "code",
   "execution_count": 6,
   "id": "9097a75c",
   "metadata": {},
   "outputs": [],
   "source": [
    "# ✍️ Paste your model-generated summaries and the reference summary here\n",
    "\n",
    "t5_summary = \"\"\"We study the transition from chaotic to integrable phases in a paradigmatic model. We show that the divergence between different complexity markers is more sensitive to underlying many-body symmetries than the other markers.\"\"\"\n",
    "bart_summary = \"\"\"Complex quantum systems are difficult to model. When a quantum many-body system is subject to disorder, it can undergo transitions to regimes with varying non-ergodic and localized behavior. For all three markers, finite-size scaling reveals sharp transitions between high- and low-complexity regimes.\"\"\"\n",
    "pegasus_summary = \"\"\"We study the transition from chaotic toble phases in several paradigmatic models, using finite-size scaling to reveal sharp transitions between high- and low-complexity regimes.\"\"\"\n",
    "\n",
    "# Provide a human-written or gold standard summary for comparison\n",
    "reference_summary = \"\"\"Modeling complex quantum systems with many interacting particles is notoriously challenging. When disorder is introduced into such systems, they can shift into phases that are non-ergodic or localized, potentially simplifying their behavior by reducing the number of states that matter. However, it's still unclear whether these phase transitions also signal a fundamental change in the system's computational complexity.\n",
    "\n",
    "This study explores that question using three key models—the power-law random banded matrix model, the Rosenzweig–Porter model, and a hybrid SYK+Ising model. It compares three different ways of measuring complexity: fractal dimension, von Neumann entanglement entropy, and stabilizer Rényi entropy. While all three indicators show clear transitions between complex and simpler phases as system size increases, they don’t all agree on exactly where these transitions happen. In particular, during an intermediate “fractal phase,” their behavior diverges.\n",
    "\n",
    "One key finding is that stabilizer Rényi entropy appears especially sensitive to deep symmetries in the system, like fermion parity and time-reversal invariance—more so than the other metrics. Overall, the results highlight that no single measure fully captures the complexity of quantum phase transitions. Instead, combining multiple metrics provides a more complete understanding—and the differences between them carry important implications for how well such systems can be simulated on classical computers.\"\"\"\n"
   ]
  },
  {
   "cell_type": "code",
   "execution_count": 7,
   "id": "c712b027",
   "metadata": {},
   "outputs": [
    {
     "name": "stdout",
     "output_type": "stream",
     "text": [
      "ROUGE Scores:\n",
      "\n",
      "T5:\n",
      "  rouge1: 0.1667\n",
      "  rouge2: 0.0240\n",
      "  rougeL: 0.1032\n",
      "  rougeLsum: 0.1190\n",
      "\n",
      "BART:\n",
      "  rouge1: 0.2273\n",
      "  rouge2: 0.0382\n",
      "  rougeL: 0.1288\n",
      "  rougeLsum: 0.1742\n",
      "\n",
      "PEGASUS:\n",
      "  rouge1: 0.0984\n",
      "  rouge2: 0.0083\n",
      "  rougeL: 0.0574\n",
      "  rougeLsum: 0.0656\n"
     ]
    }
   ],
   "source": [
    "# 🧪 Evaluate ROUGE scores\n",
    "print(\"ROUGE Scores:\")\n",
    "for model_name, summary in zip([\"T5\", \"BART\", \"PEGASUS\"], [t5_summary, bart_summary, pegasus_summary]):\n",
    "    scores = rouge.compute(predictions=[summary], references=[reference_summary])\n",
    "    print(f\"\\n{model_name}:\")\n",
    "    for key, value in scores.items():\n",
    "        print(f\"  {key}: {value:.4f}\")\n"
   ]
  },
  {
   "cell_type": "code",
   "execution_count": 8,
   "id": "3647ed88",
   "metadata": {},
   "outputs": [
    {
     "name": "stdout",
     "output_type": "stream",
     "text": [
      "\n",
      " BERTScores:\n"
     ]
    },
    {
     "ename": "",
     "evalue": "",
     "output_type": "error",
     "traceback": [
      "\u001b[1;31mThe Kernel crashed while executing code in the current cell or a previous cell. \n",
      "\u001b[1;31mPlease review the code in the cell(s) to identify a possible cause of the failure. \n",
      "\u001b[1;31mClick <a href='https://aka.ms/vscodeJupyterKernelCrash'>here</a> for more info. \n",
      "\u001b[1;31mView Jupyter <a href='command:jupyter.viewOutput'>log</a> for further details."
     ]
    }
   ],
   "source": [
    "# Evaluate BERTScore\n",
    "print(\"\\n BERTScores:\")\n",
    "for model_name, summary in zip([\"T5\", \"BART\", \"PEGASUS\"], [t5_summary, bart_summary, pegasus_summary]):\n",
    "    P, R, F1 = score([summary], [reference_summary], lang=\"en\", verbose=False)\n",
    "    print(f\"{model_name}: Precision={P.mean():.4f}, Recall={R.mean():.4f}, F1={F1.mean():.4f}\")\n"
   ]
  },
  {
   "cell_type": "code",
   "execution_count": 2,
   "id": "d14e6254",
   "metadata": {},
   "outputs": [
    {
     "name": "stdout",
     "output_type": "stream",
     "text": [
      "\n",
      " Summary Lengths:\n"
     ]
    },
    {
     "ename": "NameError",
     "evalue": "name 't5_summary' is not defined",
     "output_type": "error",
     "traceback": [
      "\u001b[31m---------------------------------------------------------------------------\u001b[39m",
      "\u001b[31mNameError\u001b[39m                                 Traceback (most recent call last)",
      "\u001b[36mCell\u001b[39m\u001b[36m \u001b[39m\u001b[32mIn[2]\u001b[39m\u001b[32m, line 2\u001b[39m\n\u001b[32m      1\u001b[39m \u001b[38;5;28mprint\u001b[39m(\u001b[33m\"\u001b[39m\u001b[38;5;130;01m\\n\u001b[39;00m\u001b[33m Summary Lengths:\u001b[39m\u001b[33m\"\u001b[39m)\n\u001b[32m----> \u001b[39m\u001b[32m2\u001b[39m \u001b[38;5;28;01mfor\u001b[39;00m model_name, summary \u001b[38;5;129;01min\u001b[39;00m \u001b[38;5;28mzip\u001b[39m([\u001b[33m\"\u001b[39m\u001b[33mT5\u001b[39m\u001b[33m\"\u001b[39m, \u001b[33m\"\u001b[39m\u001b[33mBART\u001b[39m\u001b[33m\"\u001b[39m, \u001b[33m\"\u001b[39m\u001b[33mPEGASUS\u001b[39m\u001b[33m\"\u001b[39m], [\u001b[43mt5_summary\u001b[49m, bart_summary, pegasus_summary]):\n\u001b[32m      3\u001b[39m     \u001b[38;5;28mprint\u001b[39m(\u001b[33mf\u001b[39m\u001b[33m\"\u001b[39m\u001b[38;5;132;01m{\u001b[39;00mmodel_name\u001b[38;5;132;01m}\u001b[39;00m\u001b[33m: \u001b[39m\u001b[38;5;132;01m{\u001b[39;00m\u001b[38;5;28mlen\u001b[39m(summary.split())\u001b[38;5;132;01m}\u001b[39;00m\u001b[33m words\u001b[39m\u001b[33m\"\u001b[39m)\n",
      "\u001b[31mNameError\u001b[39m: name 't5_summary' is not defined"
     ]
    }
   ],
   "source": [
    "print(\"\\n Summary Lengths:\")\n",
    "for model_name, summary in zip([\"T5\", \"BART\", \"PEGASUS\"], [t5_summary, bart_summary, pegasus_summary]):\n",
    "    print(f\"{model_name}: {len(summary.split())} words\")\n"
   ]
  }
 ],
 "metadata": {
  "kernelspec": {
   "display_name": "arpsac",
   "language": "python",
   "name": "python3"
  },
  "language_info": {
   "codemirror_mode": {
    "name": "ipython",
    "version": 3
   },
   "file_extension": ".py",
   "mimetype": "text/x-python",
   "name": "python",
   "nbconvert_exporter": "python",
   "pygments_lexer": "ipython3",
   "version": "3.12.10"
  }
 },
 "nbformat": 4,
 "nbformat_minor": 5
}
